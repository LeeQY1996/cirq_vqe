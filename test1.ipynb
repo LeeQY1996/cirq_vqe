{
 "cells": [
  {
   "cell_type": "code",
   "execution_count": 53,
   "metadata": {},
   "outputs": [],
   "source": [
    "import cirq\n",
    "import sympy\n",
    "import tensorflow_quantum as tfq\n",
    "import tensorflow as tf\n",
    "import numpy as np\n",
    "from cirq import Simulator"
   ]
  },
  {
   "cell_type": "code",
   "execution_count": 54,
   "metadata": {},
   "outputs": [],
   "source": [
    "def HEA(qubits,Nlayer,parameters):\n",
    "    circuit=cirq.Circuit()\n",
    "    count=0\n",
    "    Nqubits=len(qubits)\n",
    "    for i in range(Nlayer):  \n",
    "        for i in range(Nqubits):\n",
    "            circuit.append(cirq.ry(parameters[count])(qubits[i]))\n",
    "            count+=1\n",
    "        for i in range(Nqubits):\n",
    "            circuit.append(cirq.rz(parameters[count])(qubits[i]))\n",
    "            count+=1\n",
    "        for i in range(1,Nqubits-1,2):\n",
    "           circuit.append(cirq.CNOT(qubits[i],qubits[i+1])) \n",
    "        for i in range(0,Nqubits,2):\n",
    "            circuit.append(cirq.CNOT(qubits[i],qubits[i+1]))\n",
    "    for i in range(Nqubits):\n",
    "        circuit.append(cirq.ry(parameters[count])(qubits[i]))\n",
    "        count+=1\n",
    "    for i in range(Nqubits):\n",
    "        circuit.append(cirq.rz(parameters[count])(qubits[i]))\n",
    "        count+=1\n",
    "    return circuit"
   ]
  },
  {
   "cell_type": "code",
   "execution_count": 55,
   "metadata": {},
   "outputs": [],
   "source": [
    "def hamiltonian(qubits):\n",
    "    h = [0]\n",
    "    for i in range(len(qubits)-1):\n",
    "        h.append(cirq.X(qubits[i])*cirq.X(qubits[i+1]))\n",
    "        h.append(cirq.Y(qubits[i])*cirq.Y(qubits[i+1]))\n",
    "        h.append(cirq.Z(qubits[i])*cirq.Z(qubits[i+1]))\n",
    "    return h\n",
    "def Param(theta,params):\n",
    "    p={}\n",
    "    for i in range(len(params)):\n",
    "        p[params[i]]=theta[i]\n",
    "    return cirq.ParamResolver(p)"
   ]
  },
  {
   "cell_type": "code",
   "execution_count": 56,
   "metadata": {},
   "outputs": [],
   "source": [
    "Nqubits=4\n",
    "Nlayer=1\n",
    "Nparams=Nqubits*(Nlayer+1)*2\n",
    "qubits=[cirq.GridQubit(i,0) for i in range(Nqubits)]\n",
    "params=sympy.symbols('vqe0:%d'%Nparams)"
   ]
  },
  {
   "cell_type": "code",
   "execution_count": 57,
   "metadata": {},
   "outputs": [],
   "source": [
    "circuit=HEA(qubits,Nlayer,params)\n",
    "observable = sum(hamiltonian(qubits))"
   ]
  },
  {
   "cell_type": "code",
   "execution_count": 58,
   "metadata": {},
   "outputs": [],
   "source": [
    "#using QTF to calculate the optimal parameters.\n",
    "init = tf.keras.initializers.RandomUniform(-np.pi, np.pi)\n",
    "ins = tf.keras.Input(shape=(), dtype=tf.dtypes.string)\n",
    "inputs = tfq.convert_to_tensor([cirq.Circuit()])\n",
    "outs = tfq.layers.PQC(circuit, observable, differentiator=tfq.differentiators.ParameterShift(), initializer=init)(ins)\n",
    "vqe = tf.keras.models.Model(inputs=ins, outputs=outs)\n",
    "opt = tf.keras.optimizers.Adam(lr=0.005)\n",
    "vqe.compile(loss=tf.keras.losses.MAE, optimizer=opt)\n",
    "expt_gd=[]\n",
    "for index in range(0,100):\n",
    "    with tf.GradientTape() as tape:\n",
    "        loss=vqe(inputs)\n",
    "    gradients=tape.gradient(loss,vqe.trainable_variables)\n",
    "    opt.apply_gradients(zip(gradients,vqe.trainable_variables))\n",
    "    expt_gd.append(vqe(inputs).numpy()[0][0])"
   ]
  },
  {
   "cell_type": "code",
   "execution_count": 59,
   "metadata": {},
   "outputs": [
    {
     "name": "stdout",
     "output_type": "stream",
     "text": [
      "parameters_number:16, QTF_value:-4.257663726806641, Reset_Weights_QTF_Value:[[-4.2576637]], QTF.Expectation_value:[[-1.1815777]], Simulator_value:[(-1.1815786734223366+7.450580596923828e-09j)]\n"
     ]
    }
   ],
   "source": [
    "theta=vqe.trainable_variables[0].numpy()\n",
    "\n",
    "#reset_weights to vqe to get the estimation energy value\n",
    "vqe.set_weights([theta])\n",
    "rwqv=vqe(inputs)\n",
    "\n",
    "#using tfq.layers.Expectation to get the estimation energy value\n",
    "params_str=['vqe'+str(i) for i in range(Nparams)]\n",
    "qev=tfq.layers.Expectation()(circuit,\n",
    "                         symbol_names=params_str,\n",
    "                         symbol_values=[theta],\n",
    "                         operators=observable)\n",
    "\n",
    "#using simulator to get the estimation energy value.\n",
    "simulator=Simulator()\n",
    "resolver=Param(theta,params) #参数器 \n",
    "sv=simulator.simulate_expectation_values(circuit,observable,resolver)\n",
    "\n",
    "\n",
    "print(\"parameters_number:{npara}, QTF_value:{qv}, Reset_Weights_QTF_Value:{rwqv}, QTF.Expectation_value:{qev}, Simulator_value:{sv}\".format(npara=Nparams,qv=expt_gd[-1], rwqv=rwqv, qev=qev, sv=sv))"
   ]
  }
 ],
 "metadata": {
  "interpreter": {
   "hash": "d4e9a24b2b5fb613943a8c0050c14f3e683e5257948dd3272e75da9e307b9323"
  },
  "kernelspec": {
   "display_name": "Python 3.8.0 64-bit ('QTF': conda)",
   "language": "python",
   "name": "python3"
  },
  "language_info": {
   "codemirror_mode": {
    "name": "ipython",
    "version": 3
   },
   "file_extension": ".py",
   "mimetype": "text/x-python",
   "name": "python",
   "nbconvert_exporter": "python",
   "pygments_lexer": "ipython3",
   "version": "3.8.0"
  },
  "orig_nbformat": 4
 },
 "nbformat": 4,
 "nbformat_minor": 2
}
